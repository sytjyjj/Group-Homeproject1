{
 "cells": [
  {
   "cell_type": "markdown",
   "metadata": {},
   "source": [
    "# Loading of Libraries and Classes.  \n"
   ]
  },
  {
   "cell_type": "code",
   "execution_count": 10,
   "metadata": {},
   "outputs": [],
   "source": [
    "#\\%matplotlib inline\n",
    "from datetime import date\n",
    "import time\n",
    "import pandas as pd\n",
    "import numpy as np\n",
    "pd.options.display.max_colwidth = 60\n",
    "from Curves.Corporates.CorporateDailyVasicek import CorporateRates\n",
    "from Boostrappers.CDSBootstrapper.CDSVasicekBootstrapper import BootstrapperCDSLadder\n",
    "from MonteCarloSimulators.Vasicek.vasicekMCSim import MC_Vasicek_Sim\n",
    "from Products.Rates.CouponBond import CouponBond\n",
    "from Products.Credit.CDS import CDS\n",
    "from Scheduler.Scheduler import Scheduler\n",
    "import quandl\n",
    "import matplotlib.pyplot as plt\n",
    "import pylab\n",
    "from parameters import WORKING_DIR\n",
    "import itertools\n",
    "marker = itertools.cycle((',', '+', '.', 'o', '*'))\n",
    "from IPython.core.pylabtools import figsize\n",
    "figsize(15, 4)\n",
    "from pandas import ExcelWriter\n",
    "import numpy.random as nprnd\n",
    "from pprint import pprint\n",
    "\n",
    "\n",
    "\n"
   ]
  },
  {
   "cell_type": "markdown",
   "metadata": {},
   "source": [
    "# Create forward bond future PV (Exposure) time profile"
   ]
  },
  {
   "cell_type": "markdown",
   "metadata": {},
   "source": [
    "# Setting up parameters  \n"
   ]
  },
  {
   "cell_type": "code",
   "execution_count": 11,
   "metadata": {},
   "outputs": [],
   "source": [
    "t_step = 1.0 / 365.0\n",
    "simNumber = 10\n",
    "trim_start = date(2005,3,10)\n",
    "trim_end = date(2010,12,31)  # Last Date of the Portfolio\n",
    "start = date(2005, 3, 10)\n",
    "referenceDate = date(2005, 3, 10)"
   ]
  },
  {
   "cell_type": "markdown",
   "metadata": {},
   "source": [
    "# Data input for the CouponBond portfolio\n",
    "The word portfolio is used to describe just a dict of CouponBonds.\n",
    "\n",
    "#### This line creates a referenceDateList\n",
    "myScheduler = Scheduler()\n",
    "\n",
    "ReferenceDateList = myScheduler.getSchedule(start=referenceDate,end=trim_end,freq=\"1M\", referencedate=referenceDate)\n",
    "### Create Simulator\n",
    "#### This section creates Monte Carlo Trajectories in a wide range. Notice that the BondCoupon maturities have to be \n",
    "#### inside the Monte Carlo simulation range [trim_start,trim_end]\n",
    "#### Sigma has been artificially increased (OIS has smaller sigma) to allow for visualization of distinct trajectories. \n",
    "        # SDE parameters - Vasicek SDE\n",
    "        # dr(t) = k(θ − r(t))dt + σdW(t)\n",
    "        self.kappa = x[0]\n",
    "        self.theta = x[1]\n",
    "        self.sigma = x[2]\n",
    "        self.r0 = x[3]\n",
    "        \n",
    "myVasicek = MC_Vasicek_Sim()\n",
    "xOIS = [ 3.0,  0.07536509, -0.208477,  0.07536509]\n",
    "myVasicek.setVasicek(x=xOIS,minDay=trim_start,maxDay=trim_end,simNumber=simNumber,t_step=1/365.0)\n",
    "myVasicek.getLibor()\n",
    "\n",
    "### Create Coupon Bond with several startDates.\n",
    "SixMonthDelay = myScheduler.extractDelay(\"6M\")\n",
    "TwoYearsDelay = myScheduler.extractDelay(\"2Y\")\n",
    "startDates = [referenceDate + nprnd.randint(0,3)*SixMonthDelay for r in range(10)]\n",
    "\n",
    "### For debugging uncomment this to choose a single date for the forward bond\n",
    "### print(startDates)\n",
    "#startDates = [date(2005,3,10)] # or\n",
    "#startDates = [date(2005,3,10) + SixMonthDelay]\n",
    "#maturities = [(x+TwoYearsDelay) for x in startDates]\n",
    "\n",
    "\n",
    "\n",
    "#### You can change the coupon and see its effect on the Exposure Profile.  The breakevenRate is calculated, for simplicity, always at referenceDate=self.start, that is, at the first day of the CouponBond life.\n",
    "\n",
    "\n",
    "\n",
    "\n",
    "##### Below is a way to create random long/short bond portfolio of any size.  The notional only affects the product class at the last stage of calculation. In my case, the only parameters affected are Exposure (PV on referenceDate), pvAvg(average PV on referenceDate)\n",
    "\n",
    "myPortfolio = {}\n",
    "coupon = 0.07536509\n",
    "for i in range(len(startDates)):\n",
    "    notional=(-1.0)**i\n",
    "    myPortfolio[i] = CouponBond(fee=1.0,start=startDates[i],coupon=coupon,notional=notional,\n",
    "                                maturity= maturities[i], freq=\"3M\", referencedate=referenceDate)"
   ]
  },
  {
   "cell_type": "code",
   "execution_count": 17,
   "metadata": {},
   "outputs": [],
   "source": [
    "myScheduler = Scheduler()\n",
    "ReferenceDateList = myScheduler.getSchedule(start=referenceDate,end=trim_end,freq=\"1M\", referencedate=referenceDate)\n",
    "# Create Simulator\n",
    "xOIS = [ 3.0,  0.07536509, -0.208477,  0.07536509]\n",
    "myVasicek = MC_Vasicek_Sim(ReferenceDateList,xOIS,simNumber,1/365.0)\n",
    "myVasicek.setVasicek(x=xOIS,minDay=trim_start,maxDay=trim_end,simNumber=simNumber,t_step=1/365.0)\n",
    "myVasicek.getLibor()\n",
    "\n",
    "# Create Coupon Bond with several startDates.\n",
    "SixMonthDelay = myScheduler.extractDelay(\"6M\")\n",
    "TwoYearsDelay = myScheduler.extractDelay(\"2Y\")\n",
    "startDates = [referenceDate + nprnd.randint(0,3)*SixMonthDelay for r in range(10)]\n",
    "\n",
    "# For debugging uncomment this to choose a single date for the forward bond\n",
    "# print(startDates)\n",
    "startDates = [date(2005,3,10)+SixMonthDelay,date(2005,3,10)+TwoYearsDelay ]\n",
    "maturities = [(x+TwoYearsDelay) for x in startDates]\n",
    "\n",
    "myPortfolio = {}\n",
    "coupon = 0.07536509\n",
    "for i in range(len(startDates)):\n",
    "    notional=(-1.0)**i\n",
    "    myPortfolio[i] = CouponBond(fee=1.0,start=startDates[i],coupon=coupon,notional=notional,\n",
    "                                maturity= maturities[i], freq=\"3M\", referencedate=referenceDate,observationdate=trim_start )"
   ]
  },
  {
   "cell_type": "markdown",
   "metadata": {},
   "source": [
    "# Create Libor and portfolioScheduleOfCF.  This datelist contains all dates \n",
    "# to be used in any calculation of the portfolio positions.\n",
    "# BondCoupon class has to have a method getScheduleComplete, which return\n",
    "# fullSet on [0] and datelist on [1], calculated by BondCoupon as:\n",
    "\n",
    "def getScheduleComplete(self):\n",
    " self.datelist=self.myScheduler.getSchedule(start=self.start,end=self.maturity,freq=self.freq,referencedate=self.referencedate)\n",
    "    self.ntimes = len(self.datelist)\n",
    "    fullset = sorted(set(self.datelist)\n",
    "                               .union([self.referencedate])\n",
    "                               .union([self.start])\n",
    "                               .union([self.maturity])\n",
    "                               )\n",
    "    return fullset,self.datelist\n",
    "\n",
    "# portfolioScheduleOfCF is the concatenation of all fullsets. It defines the set of all dates for which Libor should be known.  \n"
   ]
  },
  {
   "cell_type": "code",
   "execution_count": 33,
   "metadata": {},
   "outputs": [],
   "source": [
    "# Create FullDateList\n",
    "portfolioScheduleOfCF = set(ReferenceDateList)\n",
    "for i in range(len(myPortfolio)):\n",
    "    portfolioScheduleOfCF=portfolioScheduleOfCF.union(myPortfolio[i].getScheduleComplete()[0]\n",
    ")\n",
    "portfolioScheduleOfCF = sorted(portfolioScheduleOfCF.union(ReferenceDateList))\n",
    "OIS = myVasicek.getSmallLibor(datelist=portfolioScheduleOfCF)\n",
    "#print(OIS)\n",
    "# at this point OIS contains all dates for which the discount curve should be known.\n",
    "# If the OIS doesn't contain that date, it would not be able to discount the cashflows and the calcualtion would faill.\n"
   ]
  },
  {
   "cell_type": "code",
   "execution_count": 9,
   "metadata": {},
   "outputs": [],
   "source": [
    "pvs={}\n",
    "for t in portfolioScheduleOfCF:\n",
    "    pvs[t] = np.zeros([1,simNumber])\n",
    "    #(pvs[t])\n",
    "    for i in range(len(myPortfolio)):\n",
    "        myPortfolio[i].setLibor(OIS)\n",
    "        pvs[t] = pvs[t] + myPortfolio[i].getExposure(referencedate=t).values\n",
    "        # print(myPortfolio[i].getExposure(referencedate=t).values)\n",
    "\n",
    "#print(pvs)\n",
    "#print(OIS)\n",
    "#print(myPortfolio[i].getExposure(referencedate=t).value)\n",
    "\n",
    "pvsPlot = pd.DataFrame.from_dict(list(pvs.items()))\n",
    "pvsPlot.index= list(pvs.keys())\n",
    "pvs1={}\n",
    "for i,t in zip(pvsPlot.values,pvsPlot.index):\n",
    "    pvs1[t]=i[1][0]\n",
    "pvs = pd.DataFrame.from_dict(data=pvs1,orient=\"index\")\n",
    "ax=pvs.plot(legend=False)\n",
    "ax.set_xlabel(\"Year\")\n",
    "ax.set_ylabel(\"Coupon Bond Exposure\")"
   ]
  },
  {
   "cell_type": "code",
   "execution_count": null,
   "metadata": {},
   "outputs": [],
   "source": [
    ""
   ]
  },
  {
   "cell_type": "code",
   "execution_count": null,
   "metadata": {},
   "outputs": [],
   "source": [
    ""
   ]
  }
 ],
 "metadata": {
  "anaconda-cloud": {},
  "celltoolbar": "Slideshow",
  "kernelspec": {
   "display_name": "Python 3",
   "language": "python",
   "name": "python3"
  },
  "language_info": {
   "codemirror_mode": {
    "name": "ipython",
    "version": 3.0
   },
   "file_extension": ".py",
   "mimetype": "text/x-python",
   "name": "python",
   "nbconvert_exporter": "python",
   "pygments_lexer": "ipython3",
   "version": "3.5.2"
  }
 },
 "nbformat": 4,
 "nbformat_minor": 0
}